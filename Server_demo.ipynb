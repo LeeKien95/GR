{
 "cells": [
  {
   "cell_type": "code",
   "execution_count": null,
   "metadata": {},
   "outputs": [],
   "source": [
    "# server.py \n",
    "import socket                                         \n",
    "import time\n",
    "\n",
    "# create a socket object\n",
    "serversocket = socket.socket(\n",
    "\t        socket.AF_INET, socket.SOCK_STREAM) \n",
    "\n",
    "# get local machine name\n",
    "host = socket.gethostname()                           \n",
    "\n",
    "port = 9999                                           \n",
    "\n",
    "# bind to the port\n",
    "serversocket.bind((host, port))                                  \n",
    "\n",
    "# queue up to 5 requests\n",
    "serversocket.listen(5)                                           \n",
    "\n",
    "while True:\n",
    "    # establish a connection\n",
    "    clientsocket,addr = serversocket.accept()      \n",
    "\n",
    "    print(\"Got a connection from %s\" % str(addr))\n",
    "    currentTime = time.ctime(time.time()) + \"\\r\\n\"\n",
    "    clientsocket.send(currentTime.encode('ascii'))\n",
    "    clientsocket.close()"
   ]
  }
 ],
 "metadata": {
  "kernelspec": {
   "display_name": "Python 3",
   "language": "python",
   "name": "python3"
  },
  "language_info": {
   "codemirror_mode": {
    "name": "ipython",
    "version": 3
   },
   "file_extension": ".py",
   "mimetype": "text/x-python",
   "name": "python",
   "nbconvert_exporter": "python",
   "pygments_lexer": "ipython3",
   "version": "3.5.4"
  }
 },
 "nbformat": 4,
 "nbformat_minor": 2
}
