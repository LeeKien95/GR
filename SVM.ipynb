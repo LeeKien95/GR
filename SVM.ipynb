{
 "cells": [
  {
   "cell_type": "code",
   "execution_count": 1,
   "metadata": {},
   "outputs": [
    {
     "name": "stdout",
     "output_type": "stream",
     "text": [
      "Found 1186 assets, index the returned LazyList to import.\n"
     ]
    }
   ],
   "source": [
    "#svm\n",
    "import menpo.io as mio\n",
    "path_to_svm_database = '/Programing/GR/Code/CK+/aam-images/**/**/**/*'\n",
    "\n",
    "def process(image, crop_proportion=0.2, max_diagonal=400):\n",
    "    if image.n_channels == 3:\n",
    "        image = image.as_greyscale()\n",
    "    image = image.crop_to_landmarks_proportion(crop_proportion)\n",
    "    d = image.diagonal()\n",
    "    if d > max_diagonal:\n",
    "        image = image.rescale(float(max_diagonal) / d)\n",
    "    return image\n",
    "\n",
    "training_images = mio.import_images(path_to_svm_database, verbose=True)\n",
    "training_images = training_images.map(process)"
   ]
  },
  {
   "cell_type": "code",
   "execution_count": 29,
   "metadata": {},
   "outputs": [],
   "source": [
    "import os\n",
    "class ChangeVector:\n",
    "    def __init__(self, facs = [], landmarkChange = []):\n",
    "        self.landmarkChange = landmarkChange\n",
    "        self.facs = facs\n",
    "\n",
    "path_to_facs = '/Programing/GR/Code/CK+/FACS/'\n",
    "path_to_emotions = '/Programing/GR/Code/CK+/Emotion/'\n",
    "count = 0;\n",
    "svm_training_data = []\n",
    "while(count < 1186):\n",
    "    file_path = str(training_images[count].path).split(\"\\\\\")\n",
    "    \n",
    "    facs_path = path_to_facs + file_path[6] + '/' + file_path[7]\n",
    "    facs_path = facs_path + '/' + os.listdir(facs_path)[0]\n",
    "    fi = open(facs_path, 'r')\n",
    "    facs = []\n",
    "    for line in fi: # read rest of lines\n",
    "        for x in line.split():\n",
    "            facs.append(int(float(x)))\n",
    "    #print(array)\n",
    "    fi.close()\n",
    "    \n",
    "    landmarkChange = []\n",
    "    landmark_neutral = training_images[count].landmarks['PTS'].lms.points\n",
    "    landmark_perk = training_images[count + 1].landmarks['PTS'].lms.points\n",
    "    for i in range(0,68):\n",
    "        landmarkChange.append([landmark_perk[i][0] - landmark_neutral[i][0], landmark_perk[i][1] - landmark_neutral[i][1]])\n",
    "    \n",
    "    svm_training_data.append(ChangeVector(facs, landmarkChange))   \n",
    "    count = count + 2"
   ]
  },
  {
   "cell_type": "code",
   "execution_count": 12,
   "metadata": {},
   "outputs": [
    {
     "name": "stdout",
     "output_type": "stream",
     "text": [
      "[12.0, 3.0]\n"
     ]
    }
   ],
   "source": [
    "print(svm_training_data[400].facs)"
   ]
  },
  {
   "cell_type": "code",
   "execution_count": 46,
   "metadata": {},
   "outputs": [],
   "source": [
    "from sklearn import svm\n",
    "models = []\n",
    "facs = []\n",
    "#create facs array\n",
    "for data in svm_training_data:\n",
    "    for facs_code in data.facs:\n",
    "        if(int(facs_code) not in facs):\n",
    "            facs.append(facs_code)\n",
    "\n",
    "#create model for each action unit in facs[]\n",
    "for au in facs:\n",
    "    x_training = []\n",
    "    y_label = []\n",
    "    #create label array\n",
    "    for data in svm_training_data:\n",
    "        if(au in data.facs):\n",
    "            y_label.append(1)\n",
    "        else:\n",
    "            y_label.append(0)\n",
    "        \n",
    "        #create training data: 1x136 array\n",
    "        tmp = []\n",
    "        for vector in data.landmarkChange:\n",
    "            tmp.append(vector[0])\n",
    "            tmp.append(vector[1])\n",
    "        x_training.append(tmp)\n",
    "    clf = svm.SVC()\n",
    "    clf.fit(x_training, y_label)\n",
    "    models.append(clf)\n"
   ]
  },
  {
   "cell_type": "code",
   "execution_count": 41,
   "metadata": {},
   "outputs": [
    {
     "name": "stdout",
     "output_type": "stream",
     "text": [
      "SVC(C=1.0, cache_size=200, class_weight=None, coef0=0.0,\n",
      "  decision_function_shape='ovr', degree=3, gamma='auto', kernel='rbf',\n",
      "  max_iter=-1, probability=False, random_state=None, shrinking=True,\n",
      "  tol=0.001, verbose=False)\n"
     ]
    }
   ],
   "source": [
    "print(models[0])"
   ]
  },
  {
   "cell_type": "code",
   "execution_count": 51,
   "metadata": {},
   "outputs": [
    {
     "name": "stdout",
     "output_type": "stream",
     "text": [
      "4\n",
      "[1]\n",
      "4\n",
      "[1]\n",
      "7\n",
      "[1]\n",
      "3\n",
      "[1]\n",
      "14\n",
      "[1]\n",
      "2\n",
      "[1]\n",
      "24\n",
      "[1]\n",
      "3\n",
      "[1]\n",
      "17\n",
      "[1]\n",
      "5\n",
      "[1]\n",
      "[0]\n"
     ]
    }
   ],
   "source": [
    "data = svm_training_data[30]\n",
    "for au in data.facs:\n",
    "    model_index = facs.index(au)\n",
    "    tmp = []\n",
    "    for vector in data.landmarkChange:\n",
    "        tmp.append(vector[0])\n",
    "        tmp.append(vector[1])\n",
    "    print(au)\n",
    "    print(models[model_index].predict([tmp]))\n"
   ]
  }
 ],
 "metadata": {
  "kernelspec": {
   "display_name": "Python 3",
   "language": "python",
   "name": "python3"
  },
  "language_info": {
   "codemirror_mode": {
    "name": "ipython",
    "version": 3
   },
   "file_extension": ".py",
   "mimetype": "text/x-python",
   "name": "python",
   "nbconvert_exporter": "python",
   "pygments_lexer": "ipython3",
   "version": "3.5.4"
  }
 },
 "nbformat": 4,
 "nbformat_minor": 2
}
