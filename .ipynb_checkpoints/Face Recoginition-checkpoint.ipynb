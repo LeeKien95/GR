{
 "cells": [
  {
   "cell_type": "code",
   "execution_count": null,
   "metadata": {
    "collapsed": true
   },
   "outputs": [],
   "source": [
    "import face_recognition\n",
    "\n",
    "# Load the jpg files into numpy arrays\n",
    "biden_image = face_recognition.load_image_file(\"biden.jpg\")\n",
    "obama_image = face_recognition.load_image_file(\"obama.jpg\")\n",
    "unknown_image = face_recognition.load_image_file(\"obama2.jpg\")\n",
    "\n",
    "# Get the face encodings for each face in each image file\n",
    "# Since there could be more than one face in each image, it returns a list of encodings.\n",
    "# But since I know each image only has one face, I only care about the first encoding in each image, so I grab index 0.\n",
    "try:\n",
    "    biden_face_encoding = face_recognition.face_encodings(biden_image)[0]\n",
    "    obama_face_encoding = face_recognition.face_encodings(obama_image)[0]\n",
    "    unknown_face_encoding = face_recognition.face_encodings(unknown_image)[0]\n",
    "except IndexError:\n",
    "    print(\"I wasn't able to locate any faces in at least one of the images. Check the image files. Aborting...\")\n",
    "    quit()\n",
    "\n",
    "known_faces = [\n",
    "    biden_face_encoding,\n",
    "    obama_face_encoding\n",
    "]\n",
    "\n",
    "# results is an array of True/False telling if the unknown face matched anyone in the known_faces array\n",
    "results = face_recognition.compare_faces(known_faces, unknown_face_encoding)\n",
    "\n",
    "print(\"Is the unknown face a picture of Biden? {}\".format(results[0]))\n",
    "print(\"Is the unknown face a picture of Obama? {}\".format(results[1]))\n",
    "print(\"Is the unknown face a new person that we've never seen before? {}\".format(not True in results))"
   ]
  },
  {
   "cell_type": "code",
   "execution_count": 20,
   "metadata": {
    "collapsed": false
   },
   "outputs": [],
   "source": [
    "import face_recognition\n",
    "import os\n",
    "path_to_dataset = '/home/lee/dataset/CK+/aam-images'\n",
    "subjects = os.listdir(path_to_dataset)\n",
    "subject_images = []\n",
    "for s in subjects:\n",
    "    sub_folder = os.listdir(path_to_dataset + '/' + s)\n",
    "    images  = os.listdir(path_to_dataset + '/' + s + '/' + sub_folder[0])\n",
    "    for i in images:\n",
    "        if(i.split('.')[1] != 'pts' and i != 'Thumbs.db'):\n",
    "            tmp_image = face_recognition.load_image_file(path_to_dataset + '/' + s + '/' + sub_folder[0] +'/' + i)\n",
    "            subject_images.append([face_recognition.face_encodings(tmp_image)[0], s])\n",
    "            break\n",
    "\n",
    "# print(subject_images)\n",
    "known_faces = []\n",
    "for si in subject_images:\n",
    "    known_faces.append(si[0])\n"
   ]
  },
  {
   "cell_type": "code",
   "execution_count": 23,
   "metadata": {
    "collapsed": false
   },
   "outputs": [
    {
     "name": "stdout",
     "output_type": "stream",
     "text": [
      "S121\n",
      "S501\n"
     ]
    }
   ],
   "source": [
    "path_to_test = '/home/lee/dataset/CK+/test_images/6.png'\n",
    "unknown_face = face_recognition.load_image_file(path_to_test)\n",
    "unknown_face_encoding = face_recognition.face_encodings(unknown_face)[0]\n",
    "\n",
    "results = face_recognition.compare_faces(known_faces, unknown_face_encoding)\n",
    "\n",
    "for i in range(0, len(results)):\n",
    "    if(results[i] == True):\n",
    "        print(subject_images[i][1])\n",
    "        "
   ]
  },
  {
   "cell_type": "code",
   "execution_count": 4,
   "metadata": {
    "collapsed": false
   },
   "outputs": [
    {
     "ename": "NameError",
     "evalue": "name 'double' is not defined",
     "output_type": "error",
     "traceback": [
      "\u001b[1;31m---------------------------------------------------------------------------\u001b[0m",
      "\u001b[1;31mNameError\u001b[0m                                 Traceback (most recent call last)",
      "\u001b[1;32m<ipython-input-4-4a6b635d6036>\u001b[0m in \u001b[0;36m<module>\u001b[1;34m()\u001b[0m\n\u001b[0;32m      1\u001b[0m \u001b[0mnumber\u001b[0m \u001b[1;33m=\u001b[0m \u001b[1;34m'1.0f'\u001b[0m\u001b[1;33m\u001b[0m\u001b[0m\n\u001b[1;32m----> 2\u001b[1;33m \u001b[0mprint\u001b[0m\u001b[1;33m(\u001b[0m\u001b[0mdouble\u001b[0m\u001b[1;33m(\u001b[0m\u001b[0mnumber\u001b[0m\u001b[1;33m)\u001b[0m\u001b[1;33m)\u001b[0m\u001b[1;33m\u001b[0m\u001b[0m\n\u001b[0m",
      "\u001b[1;31mNameError\u001b[0m: name 'double' is not defined"
     ]
    }
   ],
   "source": []
  },
  {
   "cell_type": "code",
   "execution_count": 24,
   "metadata": {
    "collapsed": true
   },
   "outputs": [],
   "source": [
    "import pickle\n",
    "\n",
    "def save_object(obj, filename):\n",
    "    with open(filename, 'wb') as output:  # Overwrites any existing file.\n",
    "        pickle.dump(obj, output, pickle.HIGHEST_PROTOCOL)\n",
    "        \n",
    "#save model\n",
    "# save_object(models, 'models/au_models.pkl')\n",
    "#save_object(facs, '/Programing/GR/Code/Python/models/facs.pkl')\n",
    "# save_object(clf, 'models/emotion_model.pkl')\n",
    "# save_object(x_training + x_testing, 'models/normalize_data.pkl')\n",
    "save_object(subject_images, 'models/subject_images.pkl')"
   ]
  }
 ],
 "metadata": {
  "kernelspec": {
   "display_name": "Python 3",
   "language": "python",
   "name": "python3"
  },
  "language_info": {
   "codemirror_mode": {
    "name": "ipython",
    "version": 3
   },
   "file_extension": ".py",
   "mimetype": "text/x-python",
   "name": "python",
   "nbconvert_exporter": "python",
   "pygments_lexer": "ipython3",
   "version": "3.4.5"
  }
 },
 "nbformat": 4,
 "nbformat_minor": 1
}
