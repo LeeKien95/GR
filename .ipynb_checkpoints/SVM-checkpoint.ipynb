{
 "cells": [
  {
   "cell_type": "code",
   "execution_count": 105,
   "metadata": {},
   "outputs": [
    {
     "name": "stdout",
     "output_type": "stream",
     "text": [
      "Found 1146 assets, index the returned LazyList to import.\n"
     ]
    }
   ],
   "source": [
    "#svm\n",
    "import menpo.io as mio\n",
    "import os\n",
    "from sklearn import svm\n",
    "path_to_svm_training_database = '/Programing/GR/Code/CK+/aam-images/**/**/**/*'\n",
    "\n",
    "class ChangeVector:\n",
    "    def __init__(self, facs = [], landmarkChange = []):\n",
    "        self.landmarkChange = landmarkChange\n",
    "        self.facs = facs\n",
    "\n",
    "def process(image, crop_proportion=0.2, max_diagonal=400):\n",
    "    if image.n_channels == 3:\n",
    "        image = image.as_greyscale()\n",
    "    image = image.crop_to_landmarks_proportion(crop_proportion)\n",
    "    d = image.diagonal()\n",
    "    if d > max_diagonal:\n",
    "        image = image.rescale(float(max_diagonal) / d)\n",
    "    return image\n",
    "\n",
    "training_images = mio.import_images(path_to_svm_training_database, verbose=True)\n",
    "training_images = training_images.map(process)\n",
    "\n",
    "path_to_facs = '/Programing/GR/Code/CK+/FACS/'\n",
    "path_to_emotions = '/Programing/GR/Code/CK+/Emotion/'\n",
    "count = 0;\n",
    "svm_training_data = []\n",
    "while(count < len(training_images)):\n",
    "    file_path = str(training_images[count].path).split(\"\\\\\")\n",
    "    \n",
    "    facs_path = path_to_facs + file_path[6] + '/' + file_path[7]\n",
    "    facs_path = facs_path + '/' + os.listdir(facs_path)[0]\n",
    "    fi = open(facs_path, 'r')\n",
    "    data_facs = []\n",
    "    for line in fi: # read rest of lines\n",
    "        for x in line.split():\n",
    "            if(int(float(x)) not in data_facs):\n",
    "                data_facs.append(int(float(x)))\n",
    "    #print(array)\n",
    "    fi.close()\n",
    "    \n",
    "    landmarkChange = []\n",
    "    landmark_neutral = training_images[count].landmarks['PTS'].lms.points\n",
    "    landmark_perk = training_images[count + 1].landmarks['PTS'].lms.points\n",
    "    for i in range(0,68):\n",
    "        landmarkChange.append([landmark_perk[i][0] - landmark_neutral[i][0], landmark_perk[i][1] - landmark_neutral[i][1]])\n",
    "    \n",
    "    svm_training_data.append(ChangeVector(data_facs, landmarkChange))   \n",
    "    count = count + 2\n",
    "\n",
    "\n",
    "models = []\n",
    "facs = []\n",
    "#create facs array\n",
    "for data in svm_training_data:\n",
    "    for facs_code in data.facs:\n",
    "        if(int(facs_code) not in facs and int(facs_code)!= 0):\n",
    "            facs.append(facs_code)\n",
    "\n",
    "facs.sort()\n",
    "#create model for each action unit in facs[]\n",
    "for au in facs:\n",
    "    x_training = []\n",
    "    y_label = []\n",
    "    #create label array\n",
    "    for data in svm_training_data:\n",
    "        if(au in data.facs):\n",
    "            y_label.append(1)\n",
    "        else:\n",
    "            y_label.append(0)\n",
    "        \n",
    "        #create training data: 1x136 array\n",
    "        tmp = []\n",
    "        for vector in data.landmarkChange:\n",
    "            tmp.append(vector[0])\n",
    "            tmp.append(vector[1])\n",
    "        x_training.append(tmp)\n",
    "    clf = svm.SVC()\n",
    "    clf.fit(x_training, y_label)\n",
    "    models.append(clf)\n"
   ]
  },
  {
   "cell_type": "code",
   "execution_count": 106,
   "metadata": {},
   "outputs": [
    {
     "name": "stdout",
     "output_type": "stream",
     "text": [
      "40\n"
     ]
    }
   ],
   "source": [
    "print(len(models))"
   ]
  },
  {
   "cell_type": "code",
   "execution_count": 81,
   "metadata": {},
   "outputs": [
    {
     "name": "stdout",
     "output_type": "stream",
     "text": [
      "4\n",
      "[1]\n",
      "7\n",
      "[1]\n",
      "3\n",
      "[1]\n",
      "14\n",
      "[1]\n",
      "2\n",
      "[1]\n",
      "24\n",
      "[1]\n",
      "17\n",
      "[1]\n",
      "5\n",
      "[1]\n"
     ]
    }
   ],
   "source": [
    "data = svm_training_data[30]\n",
    "for au in data.facs:\n",
    "    model_index = facs.index(au)\n",
    "    tmp = []\n",
    "    for vector in data.landmarkChange:\n",
    "        tmp.append(vector[0])\n",
    "        tmp.append(vector[1])\n",
    "    print(au)\n",
    "    print(models[model_index].predict([tmp]))"
   ]
  },
  {
   "cell_type": "code",
   "execution_count": 129,
   "metadata": {},
   "outputs": [
    {
     "name": "stdout",
     "output_type": "stream",
     "text": [
      "Found 42 assets, index the returned LazyList to import.\n"
     ]
    }
   ],
   "source": [
    "#create testing data\n",
    "svm_testing_data = []\n",
    "path_to_svm_testing_database = \"/Programing/GR/Code/CK+/test-aam-images/**/**/**/*\"\n",
    "testing_images = mio.import_images(path_to_svm_testing_database, verbose=True)\n",
    "testing_images = testing_images.map(process)\n",
    "\n",
    "count = 0;\n",
    "while(count < len(testing_images)):\n",
    "    file_path = str(testing_images[count].path).split(\"\\\\\")\n",
    "    \n",
    "    facs_path = path_to_facs + file_path[6] + '/' + file_path[7]\n",
    "    facs_path = facs_path + '/' + os.listdir(facs_path)[0]\n",
    "    fi = open(facs_path, 'r')\n",
    "    data_facs = []\n",
    "    for line in fi: # read rest of lines\n",
    "        for x in line.split():\n",
    "            if(int(float(x)) not in data_facs and int(float(x)) != 0):\n",
    "                data_facs.append(int(float(x)))\n",
    "    #print(array)\n",
    "    fi.close()\n",
    "    \n",
    "    landmarkChange = []\n",
    "    landmark_neutral = testing_images[count].landmarks['PTS'].lms.points\n",
    "    landmark_perk = testing_images[count + 1].landmarks['PTS'].lms.points\n",
    "    for i in range(0,68):\n",
    "        landmarkChange.append([landmark_perk[i][0] - landmark_neutral[i][0], landmark_perk[i][1] - landmark_neutral[i][1]])\n",
    "    \n",
    "    svm_testing_data.append(ChangeVector(data_facs, landmarkChange))   \n",
    "    count = count + 2\n",
    "\n"
   ]
  },
  {
   "cell_type": "code",
   "execution_count": 131,
   "metadata": {},
   "outputs": [
    {
     "name": "stdout",
     "output_type": "stream",
     "text": [
      "25\n",
      "[4, 7, 14, 17, 24, 39]\n"
     ]
    }
   ],
   "source": [
    "data = svm_testing_data[3]\n",
    "tmp = []\n",
    "for vector in data.landmarkChange:\n",
    "    tmp.append(vector[0])\n",
    "    tmp.append(vector[1])\n",
    "for model in models:\n",
    "    if(model.predict([tmp]) == 1):\n",
    "        print(facs[models.index(model)])\n",
    "\n",
    "print(data.facs)"
   ]
  },
  {
   "cell_type": "code",
   "execution_count": 124,
   "metadata": {},
   "outputs": [
    {
     "data": {
      "text/plain": [
       "[[0.058024989450856879, 0.026128748731892415],\n",
       " [0.19153429165737634, 0.050142793188577173],\n",
       " [0.032361154595747621, 0.041969737130337137],\n",
       " [-0.088279744439319074, -0.067313526720681693],\n",
       " [0.062370398759298951, -0.096312110338764967],\n",
       " [0.21818825458697688, -0.06699006345937164],\n",
       " [0.39209429927350925, -0.057795795315144005],\n",
       " [0.48687616888156526, -0.25377460537127661],\n",
       " [-1.1467877630816474, -0.054804344147100892],\n",
       " [0.83906122708413022, 0.55286212569447457],\n",
       " [0.62898382272231856, 0.88903529669229897],\n",
       " [0.74189049290492903, 0.79704317689800064],\n",
       " [0.40888018268512383, 1.0173965800955784],\n",
       " [0.28570087913769271, 1.0499810300864567],\n",
       " [0.15766951728272716, 1.0464069037257104],\n",
       " [0.028840151926715407, 1.0415622601681491],\n",
       " [-0.098002727543246237, 1.029944308400502],\n",
       " [-0.084664805335108895, 0.083157078713597343],\n",
       " [-0.14735771763301386, 0.14444647788626241],\n",
       " [-0.18404137468117199, 0.22437902385880193],\n",
       " [-0.20181583391696023, 0.30988936389174171],\n",
       " [-0.20238965703605061, 0.39722638536345301],\n",
       " [-0.27191069609317253, 0.67850161278931864],\n",
       " [-0.29291996588308677, 0.75035103091408928],\n",
       " [-0.30860461970931397, 0.82363093316160985],\n",
       " [-0.28766213386465722, 0.89475360575741547],\n",
       " [-0.2391741774902556, 0.95052086527715574],\n",
       " [-0.057796372126020401, 0.55040931535313575],\n",
       " [0.033069322210721452, 0.57176518194324899],\n",
       " [0.12444039769295046, 0.59195935395359811],\n",
       " [0.21473123170684971, 0.610810715344968],\n",
       " [-1.1204757133389194, -3.4470552340584675],\n",
       " [-0.33983223282598374, -1.5103876149912594],\n",
       " [0.30093953904562909, 0.61708830816854743],\n",
       " [-0.57317244027530023, 2.5886023758831698],\n",
       " [0.074219592411623125, 5.5726155051215471],\n",
       " [-1.7379121894086182, 1.8859789358856318],\n",
       " [0.084276896932905743, 1.5366627904121799],\n",
       " [-0.48608727678183072, -0.5080776316804787],\n",
       " [-1.5258450324098334, -1.5283433666378698],\n",
       " [0.76709101238276389, -0.61812210261562939],\n",
       " [0.75142646021016901, -0.15233714267681364],\n",
       " [-1.2083871010444796, 3.745065717234894],\n",
       " [-2.9987029601067832, 3.0330655333074219],\n",
       " [-0.88965786249163159, 4.1072379589072341],\n",
       " [1.3726379522206145, 3.719580328637619],\n",
       " [-1.5838072469570221, 2.8159103343527363],\n",
       " [-1.1798528520836129, 3.1702696061107076],\n",
       " [-15.538352060192238, -12.309772010852669],\n",
       " [-9.8386053360863457, -9.3774501659141691],\n",
       " [-5.1505036724289823, -6.2932496859039446],\n",
       " [-6.9161261680797566, -3.2135984565741182],\n",
       " [-3.2949969291756815, 2.9000230094640074],\n",
       " [-7.8439654029315022, 7.4322764043002962],\n",
       " [-15.021072791764681, 11.106286176076765],\n",
       " [-9.8530991434367081, 8.4136004474518131],\n",
       " [-7.9129349703308094, 3.729261874449179],\n",
       " [-8.342979734299206, -1.7743260844527526],\n",
       " [-8.7502420672155097, -6.0054012253633289],\n",
       " [-11.074182500707082, -10.046498746634384],\n",
       " [-8.2556673702996193, -10.631285896104799],\n",
       " [-4.2998051416895464, -6.5456056601570651],\n",
       " [-5.9343472216764894, -2.2581477410942057],\n",
       " [-5.1797317770556219, 3.2213250951928103],\n",
       " [-7.5373878565153234, 8.3556916218441017],\n",
       " [-5.1362394057744325, 3.5843026368243898],\n",
       " [-5.4265518061305329, -1.3890912275967651],\n",
       " [-4.8116354947073603, -6.2116452940178846]]"
      ]
     },
     "execution_count": 124,
     "metadata": {},
     "output_type": "execute_result"
    }
   ],
   "source": [
    "data.landmarkChange"
   ]
  },
  {
   "cell_type": "code",
   "execution_count": 68,
   "metadata": {},
   "outputs": [
    {
     "name": "stdout",
     "output_type": "stream",
     "text": [
      "2\n"
     ]
    }
   ],
   "source": [
    "wrong_predict = 0\n",
    "for data in svm_testing_data:\n",
    "    tmp = []\n",
    "    for vector in data.landmarkChange:\n",
    "        tmp.append(vector[0])\n",
    "        tmp.append(vector[1])\n",
    "        \n",
    "    for model in models:\n",
    "        if(model.predict([tmp]) == 1):\n",
    "            if(facs[models.index(model)] not in data.facs):\n",
    "                wrong_predict += 1\n",
    "        if(model.predict([tmp]) == 0):\n",
    "            if(facs[models.index(model)] in data.facs):\n",
    "                wrong_predict += 1\n",
    "        \n",
    "print(wrong_predict)"
   ]
  },
  {
   "cell_type": "code",
   "execution_count": 79,
   "metadata": {},
   "outputs": [
    {
     "name": "stdout",
     "output_type": "stream",
     "text": [
      "25.0\n"
     ]
    }
   ],
   "source": [
    "print(float(2.5000000e+01))"
   ]
  }
 ],
 "metadata": {
  "kernelspec": {
   "display_name": "Python 3",
   "language": "python",
   "name": "python3"
  },
  "language_info": {
   "codemirror_mode": {
    "name": "ipython",
    "version": 3
   },
   "file_extension": ".py",
   "mimetype": "text/x-python",
   "name": "python",
   "nbconvert_exporter": "python",
   "pygments_lexer": "ipython3",
   "version": "3.5.4"
  }
 },
 "nbformat": 4,
 "nbformat_minor": 2
}
