{
 "cells": [
  {
   "cell_type": "code",
   "execution_count": 8,
   "metadata": {},
   "outputs": [
    {
     "name": "stdout",
     "output_type": "stream",
     "text": [
      "[1, 2, 3, 4, 5, 6, 7, 9, 10, 11, 12, 13, 14, 15, 16, 17, 18, 20, 21, 22, 23, 24, 25, 26, 27, 28, 29, 30, 31, 34, 38, 39, 43, 44, 45, 54, 61, 62, 63, 64]\n"
     ]
    }
   ],
   "source": [
    "import pickle\n",
    "import menpo.io as mio\n",
    "import os\n",
    "from sklearn import svm\n",
    "import numpy as np\n",
    "from sklearn.decomposition import PCA\n",
    "from sklearn.preprocessing import normalize\n",
    "\n",
    "\n",
    "with open('/Programing/GR/Code/Python/models/au_models.pkl', 'rb') as input:\n",
    "    models = pickle.load(input)\n",
    "\n",
    "with open('/Programing/GR/Code/Python/models/facs.pkl', 'rb') as input:\n",
    "    facs = pickle.load(input)\n",
    "    \n",
    "print(facs)\n",
    "#print(len(models))\n",
    "    "
   ]
  },
  {
   "cell_type": "code",
   "execution_count": 10,
   "metadata": {},
   "outputs": [
    {
     "ename": "ImportError",
     "evalue": "No module named 'SVM'",
     "output_type": "error",
     "traceback": [
      "\u001b[1;31m---------------------------------------------------------------------------\u001b[0m",
      "\u001b[1;31mImportError\u001b[0m                               Traceback (most recent call last)",
      "\u001b[1;32m<ipython-input-10-c2e747143d69>\u001b[0m in \u001b[0;36m<module>\u001b[1;34m()\u001b[0m\n\u001b[0;32m      1\u001b[0m \u001b[0mpath_to_facs\u001b[0m \u001b[1;33m=\u001b[0m \u001b[1;34m'/Programing/GR/Code/CK+/FACS/'\u001b[0m\u001b[1;33m\u001b[0m\u001b[0m\n\u001b[0;32m      2\u001b[0m \u001b[0mpath_to_emotions\u001b[0m \u001b[1;33m=\u001b[0m \u001b[1;34m'/Programing/GR/Code/CK+/Emotion/'\u001b[0m\u001b[1;33m\u001b[0m\u001b[0m\n\u001b[1;32m----> 3\u001b[1;33m \u001b[1;32mfrom\u001b[0m \u001b[0mSVM\u001b[0m \u001b[1;32mimport\u001b[0m \u001b[0mChangeVector\u001b[0m\u001b[1;33m\u001b[0m\u001b[0m\n\u001b[0m\u001b[0;32m      4\u001b[0m \u001b[1;33m\u001b[0m\u001b[0m\n\u001b[0;32m      5\u001b[0m \u001b[1;33m\u001b[0m\u001b[0m\n",
      "\u001b[1;31mImportError\u001b[0m: No module named 'SVM'"
     ]
    }
   ],
   "source": [
    "path_to_facs = '/Programing/GR/Code/CK+/FACS/'\n",
    "path_to_emotions = '/Programing/GR/Code/CK+/Emotion/'\n",
    "from SVM import ChangeVector\n",
    "\n",
    "class ChangeVector:\n",
    "    def __init__(self, facs = [], landmarkChange = [], emotion = 0):\n",
    "        self.landmarkChange = landmarkChange\n",
    "        self.facs = facs\n",
    "        self.emotion = emotion\n",
    "        \n",
    "def process(image, crop_proportion=0.2, max_diagonal=400):\n",
    "    if image.n_channels == 3:\n",
    "        image = image.as_greyscale()\n",
    "    image = image.crop_to_landmarks_proportion(crop_proportion)\n",
    "    d = image.diagonal()\n",
    "    if d > max_diagonal:\n",
    "        image = image.rescale(float(max_diagonal) / d)\n",
    "    return image\n",
    "\n",
    "svm_testing_data = []\n",
    "path_to_svm_testing_database = \"/Programing/GR/Code/CK+/test-aam-images/**/**/**/*\"\n",
    "testing_images = mio.import_images(path_to_svm_testing_database, verbose=True)\n",
    "testing_images = testing_images.map(process)\n",
    "\n",
    "count = 0;\n",
    "while(count < len(testing_images)):\n",
    "    file_path = str(testing_images[count].path).split(\"\\\\\")\n",
    "    facs_path = path_to_facs + file_path[6] + '/' + file_path[7]\n",
    "    gt_emotion = file_path[7]\n",
    "    facs_path = facs_path + '/' + os.listdir(facs_path)[0]\n",
    "    fi = open(facs_path, 'r')\n",
    "    data_facs = []\n",
    "    for line in fi: # read rest of lines\n",
    "        for x in line.split():\n",
    "            if(int(float(x)) not in data_facs and int(float(x)) != 0):\n",
    "                data_facs.append(int(float(x)))\n",
    "    #print(array)\n",
    "    fi.close()\n",
    "    \n",
    "    landmarkChange = []\n",
    "    landmark_neutral = testing_images[count].landmarks['PTS'].lms.points\n",
    "    landmark_perk = testing_images[count + 1].landmarks['PTS'].lms.points\n",
    "    for i in range(0,68):\n",
    "        landmarkChange.append([landmark_perk[i][0] - landmark_neutral[i][0], landmark_perk[i][1] - landmark_neutral[i][1]])\n",
    "    \n",
    "    svm_testing_data.append(ChangeVector(data_facs, landmarkChange, gt_emotion))   \n",
    "    count = count + 2"
   ]
  },
  {
   "cell_type": "code",
   "execution_count": 9,
   "metadata": {},
   "outputs": [
    {
     "name": "stdout",
     "output_type": "stream",
     "text": [
      "0.85\n",
      "0.6\n",
      "0.7\n",
      "0.9\n",
      "0.9\n",
      "0.95\n",
      "0.85\n",
      "0.95\n",
      "1.0\n",
      "0.9\n",
      "0.85\n",
      "1.0\n",
      "0.8\n",
      "0.9\n",
      "0.85\n",
      "0.9\n",
      "0.95\n",
      "0.9\n",
      "1.0\n",
      "1.0\n",
      "1.0\n",
      "0.9\n",
      "0.9\n",
      "0.85\n",
      "1.0\n",
      "1.0\n",
      "1.0\n",
      "1.0\n",
      "1.0\n",
      "1.0\n",
      "0.8\n",
      "0.8\n",
      "0.85\n",
      "1.0\n",
      "1.0\n",
      "1.0\n",
      "0.95\n",
      "1.0\n",
      "0.9\n",
      "1.0\n"
     ]
    }
   ],
   "source": [
    "for au in facs:\n",
    "    x_training = []\n",
    "    y_label = []\n",
    "    #create label array\n",
    "    for data in svm_testing_data:\n",
    "        if(au in data.facs):\n",
    "            y_label.append(1)\n",
    "        else:\n",
    "            y_label.append(0)\n",
    "        #create training data: 1x68 array, result of PCA process\n",
    "        vector = []\n",
    "        for tmp in data.landmarkChange:\n",
    "            vector.append(tmp[0])\n",
    "            vector.append(tmp[1])\n",
    "        x_training.append(vector)\n",
    "    print(models[facs.index(au)].score(x_training, y_label))"
   ]
  }
 ],
 "metadata": {
  "kernelspec": {
   "display_name": "Python 3",
   "language": "python",
   "name": "python3"
  },
  "language_info": {
   "codemirror_mode": {
    "name": "ipython",
    "version": 3
   },
   "file_extension": ".py",
   "mimetype": "text/x-python",
   "name": "python",
   "nbconvert_exporter": "python",
   "pygments_lexer": "ipython3",
   "version": "3.5.4"
  }
 },
 "nbformat": 4,
 "nbformat_minor": 2
}
